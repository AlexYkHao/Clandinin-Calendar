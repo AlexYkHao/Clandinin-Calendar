{
 "cells": [
  {
   "cell_type": "code",
   "execution_count": 12,
   "metadata": {},
   "outputs": [],
   "source": [
    "import hashlib\n",
    "import os.path\n",
    "import pandas as pd\n",
    "from datetime import datetime, timedelta\n",
    "\n",
    "from google.auth.transport.requests import Request\n",
    "from google.oauth2.credentials import Credentials\n",
    "from google_auth_oauthlib.flow import InstalledAppFlow\n",
    "from googleapiclient.discovery import build\n",
    "from googleapiclient.errors import HttpError\n",
    "\n",
    "# If modifying these scopes, delete the file token.json.\n",
    "SCOPES = ['https://www.googleapis.com/auth/calendar.events']\n",
    "TIME_ZONE = 'America/Los_Angeles'"
   ]
  },
  {
   "cell_type": "code",
   "execution_count": 3,
   "metadata": {},
   "outputs": [
    {
     "name": "stdout",
     "output_type": "stream",
     "text": [
      "json exists!\n"
     ]
    }
   ],
   "source": [
    "creds = None\n",
    "if os.path.exists('creds/token.json'):\n",
    "    print('json exists!')\n",
    "    creds = Credentials.from_authorized_user_file('creds/token.json', SCOPES)\n",
    "if not creds or not creds.valid:\n",
    "    if creds and creds.expired and creds.refresh_token:\n",
    "        creds.refresh(Request())\n",
    "    else:\n",
    "        flow = InstalledAppFlow.from_client_secrets_file(\n",
    "                'creds/credentials.json', SCOPES)\n",
    "        creds = flow.run_local_server(port=0)\n",
    "        # Save the credentials for the next run\n",
    "    with open('creds/token.json', 'w') as token:\n",
    "        token.write(creds.to_json())"
   ]
  },
  {
   "cell_type": "code",
   "execution_count": 71,
   "metadata": {},
   "outputs": [
    {
     "name": "stdout",
     "output_type": "stream",
     "text": [
      "Getting the upcoming 10 events\n"
     ]
    }
   ],
   "source": [
    "service = build('calendar', 'v3', credentials=creds)\n",
    "\n",
    "# Call the Calendar API\n",
    "now = datetime.utcnow().isoformat() + 'Z'  # 'Z' indicates UTC time\n",
    "print('Getting the upcoming 10 events')\n",
    "events_result = service.events().list(calendarId='primary', timeMin=now,\n",
    "                                                    maxResults=10, singleEvents=True,\n",
    "                                                    orderBy='startTime').execute()\n",
    "events = events_result.get('items', [])"
   ]
  },
  {
   "cell_type": "code",
   "execution_count": 76,
   "metadata": {},
   "outputs": [
    {
     "data": {
      "text/plain": [
       "False"
      ]
     },
     "execution_count": 76,
     "metadata": {},
     "output_type": "execute_result"
    }
   ],
   "source": [
    "'clandinin' in events[0]['id']"
   ]
  },
  {
   "cell_type": "code",
   "execution_count": 70,
   "metadata": {},
   "outputs": [],
   "source": [
    "d = datetime.now().date()\n",
    "tomorrow = datetime(d.year, d.month, d.day, 12) + timedelta(days=1)\n",
    "start = tomorrow.isoformat()\n",
    "end = (tomorrow + timedelta(hours=1)).isoformat()\n",
    "body={\n",
    "    \"summary\": 'Automating calendar',\n",
    "    \"description\": 'This is a tutorial example of automating google calendar with python',\n",
    "    #\"colorId\": \"0\",\n",
    "    \"start\": {\"dateTime\": start, \"timeZone\": 'America/Los_Angeles'},\n",
    "    \"end\": {\"dateTime\": end, \"timeZone\": 'America/Los_Angeles'},\n",
    "    }\n",
    "id_string = body[\"summary\"] + body[\"start\"][\"dateTime\"] + \"created\" + datetime.now().isoformat()\n",
    "id = 'clandinin' + hashlib.sha224(id_string.encode()).hexdigest()\n",
    "body[\"id\"] = id\n",
    "event_result = service.events().insert(calendarId='primary',\n",
    "                                       body=body\n",
    "                                    ).execute()"
   ]
  },
  {
   "cell_type": "code",
   "execution_count": null,
   "metadata": {},
   "outputs": [],
   "source": []
  }
 ],
 "metadata": {
  "kernelspec": {
   "display_name": "Python 3.8.12 ('calendar')",
   "language": "python",
   "name": "python3"
  },
  "language_info": {
   "codemirror_mode": {
    "name": "ipython",
    "version": 3
   },
   "file_extension": ".py",
   "mimetype": "text/x-python",
   "name": "python",
   "nbconvert_exporter": "python",
   "pygments_lexer": "ipython3",
   "version": "3.8.12"
  },
  "orig_nbformat": 4,
  "vscode": {
   "interpreter": {
    "hash": "37f059579d63e70e26d0ff5786517a022d07461b3b0a9a8e76c15e6dbc553fd5"
   }
  }
 },
 "nbformat": 4,
 "nbformat_minor": 2
}
